{
 "cells": [
  {
   "cell_type": "code",
   "execution_count": 1,
   "id": "57898ce9",
   "metadata": {},
   "outputs": [],
   "source": [
    "import numpy as np"
   ]
  },
  {
   "cell_type": "code",
   "execution_count": 2,
   "id": "08f5785c",
   "metadata": {},
   "outputs": [],
   "source": [
    "import pandas as pd"
   ]
  },
  {
   "cell_type": "code",
   "execution_count": 3,
   "id": "ecb68061",
   "metadata": {},
   "outputs": [],
   "source": [
    "from numpy.random import randn"
   ]
  },
  {
   "cell_type": "code",
   "execution_count": 4,
   "id": "5d7849f4",
   "metadata": {},
   "outputs": [],
   "source": [
    "np.random.seed(101)"
   ]
  },
  {
   "cell_type": "code",
   "execution_count": 5,
   "id": "6245e885",
   "metadata": {},
   "outputs": [],
   "source": [
    "df = pd.DataFrame(randn(5,4),['A','B','C','D','E'],['W','X','Y','Z'])"
   ]
  },
  {
   "cell_type": "code",
   "execution_count": 6,
   "id": "345b4941",
   "metadata": {},
   "outputs": [
    {
     "data": {
      "text/html": [
       "<div>\n",
       "<style scoped>\n",
       "    .dataframe tbody tr th:only-of-type {\n",
       "        vertical-align: middle;\n",
       "    }\n",
       "\n",
       "    .dataframe tbody tr th {\n",
       "        vertical-align: top;\n",
       "    }\n",
       "\n",
       "    .dataframe thead th {\n",
       "        text-align: right;\n",
       "    }\n",
       "</style>\n",
       "<table border=\"1\" class=\"dataframe\">\n",
       "  <thead>\n",
       "    <tr style=\"text-align: right;\">\n",
       "      <th></th>\n",
       "      <th>W</th>\n",
       "      <th>X</th>\n",
       "      <th>Y</th>\n",
       "      <th>Z</th>\n",
       "    </tr>\n",
       "  </thead>\n",
       "  <tbody>\n",
       "    <tr>\n",
       "      <th>A</th>\n",
       "      <td>-1.086446</td>\n",
       "      <td>-0.896065</td>\n",
       "      <td>-0.306299</td>\n",
       "      <td>-1.339934</td>\n",
       "    </tr>\n",
       "    <tr>\n",
       "      <th>B</th>\n",
       "      <td>-1.206586</td>\n",
       "      <td>-0.641727</td>\n",
       "      <td>1.307946</td>\n",
       "      <td>1.845460</td>\n",
       "    </tr>\n",
       "    <tr>\n",
       "      <th>C</th>\n",
       "      <td>0.829115</td>\n",
       "      <td>-0.023299</td>\n",
       "      <td>-0.208564</td>\n",
       "      <td>-0.916620</td>\n",
       "    </tr>\n",
       "    <tr>\n",
       "      <th>D</th>\n",
       "      <td>-1.074743</td>\n",
       "      <td>-0.086143</td>\n",
       "      <td>1.175839</td>\n",
       "      <td>-1.635092</td>\n",
       "    </tr>\n",
       "    <tr>\n",
       "      <th>E</th>\n",
       "      <td>1.228194</td>\n",
       "      <td>1.076386</td>\n",
       "      <td>0.394773</td>\n",
       "      <td>-0.387701</td>\n",
       "    </tr>\n",
       "  </tbody>\n",
       "</table>\n",
       "</div>"
      ],
      "text/plain": [
       "          W         X         Y         Z\n",
       "A -1.086446 -0.896065 -0.306299 -1.339934\n",
       "B -1.206586 -0.641727  1.307946  1.845460\n",
       "C  0.829115 -0.023299 -0.208564 -0.916620\n",
       "D -1.074743 -0.086143  1.175839 -1.635092\n",
       "E  1.228194  1.076386  0.394773 -0.387701"
      ]
     },
     "execution_count": 6,
     "metadata": {},
     "output_type": "execute_result"
    }
   ],
   "source": [
    "df"
   ]
  },
  {
   "cell_type": "code",
   "execution_count": 7,
   "id": "2785aadb",
   "metadata": {},
   "outputs": [
    {
     "data": {
      "text/plain": [
       "A   -1.086446\n",
       "B   -1.206586\n",
       "C    0.829115\n",
       "D   -1.074743\n",
       "E    1.228194\n",
       "Name: W, dtype: float64"
      ]
     },
     "execution_count": 7,
     "metadata": {},
     "output_type": "execute_result"
    }
   ],
   "source": [
    "df['W'] #obtemos a coluna W"
   ]
  },
  {
   "cell_type": "code",
   "execution_count": 8,
   "id": "454df4e4",
   "metadata": {},
   "outputs": [
    {
     "data": {
      "text/plain": [
       "pandas.core.series.Series"
      ]
     },
     "execution_count": 8,
     "metadata": {},
     "output_type": "execute_result"
    }
   ],
   "source": [
    "type(df['W'])"
   ]
  },
  {
   "cell_type": "code",
   "execution_count": 9,
   "id": "1e386760",
   "metadata": {},
   "outputs": [
    {
     "data": {
      "text/plain": [
       "pandas.core.frame.DataFrame"
      ]
     },
     "execution_count": 9,
     "metadata": {},
     "output_type": "execute_result"
    }
   ],
   "source": [
    "type(df)"
   ]
  },
  {
   "cell_type": "code",
   "execution_count": 11,
   "id": "0b045011",
   "metadata": {},
   "outputs": [
    {
     "data": {
      "text/html": [
       "<div>\n",
       "<style scoped>\n",
       "    .dataframe tbody tr th:only-of-type {\n",
       "        vertical-align: middle;\n",
       "    }\n",
       "\n",
       "    .dataframe tbody tr th {\n",
       "        vertical-align: top;\n",
       "    }\n",
       "\n",
       "    .dataframe thead th {\n",
       "        text-align: right;\n",
       "    }\n",
       "</style>\n",
       "<table border=\"1\" class=\"dataframe\">\n",
       "  <thead>\n",
       "    <tr style=\"text-align: right;\">\n",
       "      <th></th>\n",
       "      <th>W</th>\n",
       "      <th>Z</th>\n",
       "    </tr>\n",
       "  </thead>\n",
       "  <tbody>\n",
       "    <tr>\n",
       "      <th>A</th>\n",
       "      <td>-1.086446</td>\n",
       "      <td>-1.339934</td>\n",
       "    </tr>\n",
       "    <tr>\n",
       "      <th>B</th>\n",
       "      <td>-1.206586</td>\n",
       "      <td>1.845460</td>\n",
       "    </tr>\n",
       "    <tr>\n",
       "      <th>C</th>\n",
       "      <td>0.829115</td>\n",
       "      <td>-0.916620</td>\n",
       "    </tr>\n",
       "    <tr>\n",
       "      <th>D</th>\n",
       "      <td>-1.074743</td>\n",
       "      <td>-1.635092</td>\n",
       "    </tr>\n",
       "    <tr>\n",
       "      <th>E</th>\n",
       "      <td>1.228194</td>\n",
       "      <td>-0.387701</td>\n",
       "    </tr>\n",
       "  </tbody>\n",
       "</table>\n",
       "</div>"
      ],
      "text/plain": [
       "          W         Z\n",
       "A -1.086446 -1.339934\n",
       "B -1.206586  1.845460\n",
       "C  0.829115 -0.916620\n",
       "D -1.074743 -1.635092\n",
       "E  1.228194 -0.387701"
      ]
     },
     "execution_count": 11,
     "metadata": {},
     "output_type": "execute_result"
    }
   ],
   "source": [
    "df[['W','Z']] #chamamos 2 colunas"
   ]
  },
  {
   "cell_type": "code",
   "execution_count": 12,
   "id": "719ded2f",
   "metadata": {},
   "outputs": [],
   "source": [
    "df['new'] = df['W'] + df['Y'] #criamos a coluna nova, com a soma das 2 colunas"
   ]
  },
  {
   "cell_type": "code",
   "execution_count": 13,
   "id": "32652990",
   "metadata": {},
   "outputs": [
    {
     "data": {
      "text/html": [
       "<div>\n",
       "<style scoped>\n",
       "    .dataframe tbody tr th:only-of-type {\n",
       "        vertical-align: middle;\n",
       "    }\n",
       "\n",
       "    .dataframe tbody tr th {\n",
       "        vertical-align: top;\n",
       "    }\n",
       "\n",
       "    .dataframe thead th {\n",
       "        text-align: right;\n",
       "    }\n",
       "</style>\n",
       "<table border=\"1\" class=\"dataframe\">\n",
       "  <thead>\n",
       "    <tr style=\"text-align: right;\">\n",
       "      <th></th>\n",
       "      <th>W</th>\n",
       "      <th>X</th>\n",
       "      <th>Y</th>\n",
       "      <th>Z</th>\n",
       "      <th>new</th>\n",
       "    </tr>\n",
       "  </thead>\n",
       "  <tbody>\n",
       "    <tr>\n",
       "      <th>A</th>\n",
       "      <td>-1.086446</td>\n",
       "      <td>-0.896065</td>\n",
       "      <td>-0.306299</td>\n",
       "      <td>-1.339934</td>\n",
       "      <td>-1.392746</td>\n",
       "    </tr>\n",
       "    <tr>\n",
       "      <th>B</th>\n",
       "      <td>-1.206586</td>\n",
       "      <td>-0.641727</td>\n",
       "      <td>1.307946</td>\n",
       "      <td>1.845460</td>\n",
       "      <td>0.101360</td>\n",
       "    </tr>\n",
       "    <tr>\n",
       "      <th>C</th>\n",
       "      <td>0.829115</td>\n",
       "      <td>-0.023299</td>\n",
       "      <td>-0.208564</td>\n",
       "      <td>-0.916620</td>\n",
       "      <td>0.620551</td>\n",
       "    </tr>\n",
       "    <tr>\n",
       "      <th>D</th>\n",
       "      <td>-1.074743</td>\n",
       "      <td>-0.086143</td>\n",
       "      <td>1.175839</td>\n",
       "      <td>-1.635092</td>\n",
       "      <td>0.101096</td>\n",
       "    </tr>\n",
       "    <tr>\n",
       "      <th>E</th>\n",
       "      <td>1.228194</td>\n",
       "      <td>1.076386</td>\n",
       "      <td>0.394773</td>\n",
       "      <td>-0.387701</td>\n",
       "      <td>1.622967</td>\n",
       "    </tr>\n",
       "  </tbody>\n",
       "</table>\n",
       "</div>"
      ],
      "text/plain": [
       "          W         X         Y         Z       new\n",
       "A -1.086446 -0.896065 -0.306299 -1.339934 -1.392746\n",
       "B -1.206586 -0.641727  1.307946  1.845460  0.101360\n",
       "C  0.829115 -0.023299 -0.208564 -0.916620  0.620551\n",
       "D -1.074743 -0.086143  1.175839 -1.635092  0.101096\n",
       "E  1.228194  1.076386  0.394773 -0.387701  1.622967"
      ]
     },
     "execution_count": 13,
     "metadata": {},
     "output_type": "execute_result"
    }
   ],
   "source": [
    "df"
   ]
  },
  {
   "cell_type": "code",
   "execution_count": 14,
   "id": "b08c7cee",
   "metadata": {},
   "outputs": [
    {
     "data": {
      "text/html": [
       "<div>\n",
       "<style scoped>\n",
       "    .dataframe tbody tr th:only-of-type {\n",
       "        vertical-align: middle;\n",
       "    }\n",
       "\n",
       "    .dataframe tbody tr th {\n",
       "        vertical-align: top;\n",
       "    }\n",
       "\n",
       "    .dataframe thead th {\n",
       "        text-align: right;\n",
       "    }\n",
       "</style>\n",
       "<table border=\"1\" class=\"dataframe\">\n",
       "  <thead>\n",
       "    <tr style=\"text-align: right;\">\n",
       "      <th></th>\n",
       "      <th>W</th>\n",
       "      <th>X</th>\n",
       "      <th>Y</th>\n",
       "      <th>Z</th>\n",
       "    </tr>\n",
       "  </thead>\n",
       "  <tbody>\n",
       "    <tr>\n",
       "      <th>A</th>\n",
       "      <td>-1.086446</td>\n",
       "      <td>-0.896065</td>\n",
       "      <td>-0.306299</td>\n",
       "      <td>-1.339934</td>\n",
       "    </tr>\n",
       "    <tr>\n",
       "      <th>B</th>\n",
       "      <td>-1.206586</td>\n",
       "      <td>-0.641727</td>\n",
       "      <td>1.307946</td>\n",
       "      <td>1.845460</td>\n",
       "    </tr>\n",
       "    <tr>\n",
       "      <th>C</th>\n",
       "      <td>0.829115</td>\n",
       "      <td>-0.023299</td>\n",
       "      <td>-0.208564</td>\n",
       "      <td>-0.916620</td>\n",
       "    </tr>\n",
       "    <tr>\n",
       "      <th>D</th>\n",
       "      <td>-1.074743</td>\n",
       "      <td>-0.086143</td>\n",
       "      <td>1.175839</td>\n",
       "      <td>-1.635092</td>\n",
       "    </tr>\n",
       "    <tr>\n",
       "      <th>E</th>\n",
       "      <td>1.228194</td>\n",
       "      <td>1.076386</td>\n",
       "      <td>0.394773</td>\n",
       "      <td>-0.387701</td>\n",
       "    </tr>\n",
       "  </tbody>\n",
       "</table>\n",
       "</div>"
      ],
      "text/plain": [
       "          W         X         Y         Z\n",
       "A -1.086446 -0.896065 -0.306299 -1.339934\n",
       "B -1.206586 -0.641727  1.307946  1.845460\n",
       "C  0.829115 -0.023299 -0.208564 -0.916620\n",
       "D -1.074743 -0.086143  1.175839 -1.635092\n",
       "E  1.228194  1.076386  0.394773 -0.387701"
      ]
     },
     "execution_count": 14,
     "metadata": {},
     "output_type": "execute_result"
    }
   ],
   "source": [
    "df.drop('new',axis=1) #apaga a coluna, mas nao apaga da tabela "
   ]
  },
  {
   "cell_type": "code",
   "execution_count": 15,
   "id": "d1dadc38",
   "metadata": {},
   "outputs": [],
   "source": [
    "df.drop('new',axis=1,inplace=True) #para apagar mm da tabela, temos de incluir o inplace"
   ]
  },
  {
   "cell_type": "code",
   "execution_count": null,
   "id": "238f8fec",
   "metadata": {},
   "outputs": [],
   "source": [
    "#o axis = 1, significa que é a coluna"
   ]
  },
  {
   "cell_type": "code",
   "execution_count": 16,
   "id": "bf695807",
   "metadata": {},
   "outputs": [
    {
     "data": {
      "text/html": [
       "<div>\n",
       "<style scoped>\n",
       "    .dataframe tbody tr th:only-of-type {\n",
       "        vertical-align: middle;\n",
       "    }\n",
       "\n",
       "    .dataframe tbody tr th {\n",
       "        vertical-align: top;\n",
       "    }\n",
       "\n",
       "    .dataframe thead th {\n",
       "        text-align: right;\n",
       "    }\n",
       "</style>\n",
       "<table border=\"1\" class=\"dataframe\">\n",
       "  <thead>\n",
       "    <tr style=\"text-align: right;\">\n",
       "      <th></th>\n",
       "      <th>W</th>\n",
       "      <th>X</th>\n",
       "      <th>Y</th>\n",
       "      <th>Z</th>\n",
       "    </tr>\n",
       "  </thead>\n",
       "  <tbody>\n",
       "    <tr>\n",
       "      <th>A</th>\n",
       "      <td>-1.086446</td>\n",
       "      <td>-0.896065</td>\n",
       "      <td>-0.306299</td>\n",
       "      <td>-1.339934</td>\n",
       "    </tr>\n",
       "    <tr>\n",
       "      <th>B</th>\n",
       "      <td>-1.206586</td>\n",
       "      <td>-0.641727</td>\n",
       "      <td>1.307946</td>\n",
       "      <td>1.845460</td>\n",
       "    </tr>\n",
       "    <tr>\n",
       "      <th>C</th>\n",
       "      <td>0.829115</td>\n",
       "      <td>-0.023299</td>\n",
       "      <td>-0.208564</td>\n",
       "      <td>-0.916620</td>\n",
       "    </tr>\n",
       "    <tr>\n",
       "      <th>D</th>\n",
       "      <td>-1.074743</td>\n",
       "      <td>-0.086143</td>\n",
       "      <td>1.175839</td>\n",
       "      <td>-1.635092</td>\n",
       "    </tr>\n",
       "    <tr>\n",
       "      <th>E</th>\n",
       "      <td>1.228194</td>\n",
       "      <td>1.076386</td>\n",
       "      <td>0.394773</td>\n",
       "      <td>-0.387701</td>\n",
       "    </tr>\n",
       "  </tbody>\n",
       "</table>\n",
       "</div>"
      ],
      "text/plain": [
       "          W         X         Y         Z\n",
       "A -1.086446 -0.896065 -0.306299 -1.339934\n",
       "B -1.206586 -0.641727  1.307946  1.845460\n",
       "C  0.829115 -0.023299 -0.208564 -0.916620\n",
       "D -1.074743 -0.086143  1.175839 -1.635092\n",
       "E  1.228194  1.076386  0.394773 -0.387701"
      ]
     },
     "execution_count": 16,
     "metadata": {},
     "output_type": "execute_result"
    }
   ],
   "source": [
    "df"
   ]
  },
  {
   "cell_type": "code",
   "execution_count": 18,
   "id": "704a1e4e",
   "metadata": {},
   "outputs": [
    {
     "data": {
      "text/html": [
       "<div>\n",
       "<style scoped>\n",
       "    .dataframe tbody tr th:only-of-type {\n",
       "        vertical-align: middle;\n",
       "    }\n",
       "\n",
       "    .dataframe tbody tr th {\n",
       "        vertical-align: top;\n",
       "    }\n",
       "\n",
       "    .dataframe thead th {\n",
       "        text-align: right;\n",
       "    }\n",
       "</style>\n",
       "<table border=\"1\" class=\"dataframe\">\n",
       "  <thead>\n",
       "    <tr style=\"text-align: right;\">\n",
       "      <th></th>\n",
       "      <th>W</th>\n",
       "      <th>X</th>\n",
       "      <th>Y</th>\n",
       "      <th>Z</th>\n",
       "    </tr>\n",
       "  </thead>\n",
       "  <tbody>\n",
       "    <tr>\n",
       "      <th>A</th>\n",
       "      <td>-1.086446</td>\n",
       "      <td>-0.896065</td>\n",
       "      <td>-0.306299</td>\n",
       "      <td>-1.339934</td>\n",
       "    </tr>\n",
       "    <tr>\n",
       "      <th>B</th>\n",
       "      <td>-1.206586</td>\n",
       "      <td>-0.641727</td>\n",
       "      <td>1.307946</td>\n",
       "      <td>1.845460</td>\n",
       "    </tr>\n",
       "    <tr>\n",
       "      <th>C</th>\n",
       "      <td>0.829115</td>\n",
       "      <td>-0.023299</td>\n",
       "      <td>-0.208564</td>\n",
       "      <td>-0.916620</td>\n",
       "    </tr>\n",
       "    <tr>\n",
       "      <th>D</th>\n",
       "      <td>-1.074743</td>\n",
       "      <td>-0.086143</td>\n",
       "      <td>1.175839</td>\n",
       "      <td>-1.635092</td>\n",
       "    </tr>\n",
       "  </tbody>\n",
       "</table>\n",
       "</div>"
      ],
      "text/plain": [
       "          W         X         Y         Z\n",
       "A -1.086446 -0.896065 -0.306299 -1.339934\n",
       "B -1.206586 -0.641727  1.307946  1.845460\n",
       "C  0.829115 -0.023299 -0.208564 -0.916620\n",
       "D -1.074743 -0.086143  1.175839 -1.635092"
      ]
     },
     "execution_count": 18,
     "metadata": {},
     "output_type": "execute_result"
    }
   ],
   "source": [
    "df.drop('E', axis= 0)"
   ]
  },
  {
   "cell_type": "code",
   "execution_count": 19,
   "id": "385e078a",
   "metadata": {},
   "outputs": [],
   "source": [
    "#o axis = 0, remete para a linha"
   ]
  },
  {
   "cell_type": "code",
   "execution_count": 21,
   "id": "17576717",
   "metadata": {},
   "outputs": [
    {
     "data": {
      "text/plain": [
       "(5, 4)"
      ]
     },
     "execution_count": 21,
     "metadata": {},
     "output_type": "execute_result"
    }
   ],
   "source": [
    "df.shape #é uma tupla"
   ]
  },
  {
   "cell_type": "code",
   "execution_count": 22,
   "id": "be9c805c",
   "metadata": {},
   "outputs": [
    {
     "data": {
      "text/plain": [
       "W   -1.086446\n",
       "X   -0.896065\n",
       "Y   -0.306299\n",
       "Z   -1.339934\n",
       "Name: A, dtype: float64"
      ]
     },
     "execution_count": 22,
     "metadata": {},
     "output_type": "execute_result"
    }
   ],
   "source": [
    "df.loc['A']"
   ]
  },
  {
   "cell_type": "code",
   "execution_count": 23,
   "id": "b4680fe4",
   "metadata": {},
   "outputs": [],
   "source": [
    "#tanto as colunas, como as linhas são séries"
   ]
  },
  {
   "cell_type": "code",
   "execution_count": 24,
   "id": "22bff78d",
   "metadata": {},
   "outputs": [
    {
     "data": {
      "text/plain": [
       "W    0.829115\n",
       "X   -0.023299\n",
       "Y   -0.208564\n",
       "Z   -0.916620\n",
       "Name: C, dtype: float64"
      ]
     },
     "execution_count": 24,
     "metadata": {},
     "output_type": "execute_result"
    }
   ],
   "source": [
    "df.iloc[2] #retorna a linha com index 2"
   ]
  },
  {
   "cell_type": "code",
   "execution_count": 25,
   "id": "e88f9344",
   "metadata": {},
   "outputs": [
    {
     "data": {
      "text/plain": [
       "-0.20856395339438602"
      ]
     },
     "execution_count": 25,
     "metadata": {},
     "output_type": "execute_result"
    }
   ],
   "source": [
    "df.iloc[2][2] #linha 2, coluna 2"
   ]
  },
  {
   "cell_type": "code",
   "execution_count": 26,
   "id": "c02d5807",
   "metadata": {},
   "outputs": [
    {
     "data": {
      "text/plain": [
       "-1.086446373141411"
      ]
     },
     "execution_count": 26,
     "metadata": {},
     "output_type": "execute_result"
    }
   ],
   "source": [
    "df.loc['A']['W'] #mm coisa, mas pelos nomes correspondentes da linha e coluna"
   ]
  },
  {
   "cell_type": "code",
   "execution_count": 29,
   "id": "f1ecffaa",
   "metadata": {},
   "outputs": [
    {
     "data": {
      "text/html": [
       "<div>\n",
       "<style scoped>\n",
       "    .dataframe tbody tr th:only-of-type {\n",
       "        vertical-align: middle;\n",
       "    }\n",
       "\n",
       "    .dataframe tbody tr th {\n",
       "        vertical-align: top;\n",
       "    }\n",
       "\n",
       "    .dataframe thead th {\n",
       "        text-align: right;\n",
       "    }\n",
       "</style>\n",
       "<table border=\"1\" class=\"dataframe\">\n",
       "  <thead>\n",
       "    <tr style=\"text-align: right;\">\n",
       "      <th></th>\n",
       "      <th>W</th>\n",
       "      <th>Y</th>\n",
       "    </tr>\n",
       "  </thead>\n",
       "  <tbody>\n",
       "    <tr>\n",
       "      <th>A</th>\n",
       "      <td>-1.086446</td>\n",
       "      <td>-0.306299</td>\n",
       "    </tr>\n",
       "    <tr>\n",
       "      <th>B</th>\n",
       "      <td>-1.206586</td>\n",
       "      <td>1.307946</td>\n",
       "    </tr>\n",
       "  </tbody>\n",
       "</table>\n",
       "</div>"
      ],
      "text/plain": [
       "          W         Y\n",
       "A -1.086446 -0.306299\n",
       "B -1.206586  1.307946"
      ]
     },
     "execution_count": 29,
     "metadata": {},
     "output_type": "execute_result"
    }
   ],
   "source": [
    "df.loc[['A','B'],['W','Y']]"
   ]
  },
  {
   "cell_type": "code",
   "execution_count": 32,
   "id": "1f210a70",
   "metadata": {},
   "outputs": [],
   "source": [
    "booldf = df > 0"
   ]
  },
  {
   "cell_type": "code",
   "execution_count": 33,
   "id": "35804d46",
   "metadata": {},
   "outputs": [
    {
     "data": {
      "text/html": [
       "<div>\n",
       "<style scoped>\n",
       "    .dataframe tbody tr th:only-of-type {\n",
       "        vertical-align: middle;\n",
       "    }\n",
       "\n",
       "    .dataframe tbody tr th {\n",
       "        vertical-align: top;\n",
       "    }\n",
       "\n",
       "    .dataframe thead th {\n",
       "        text-align: right;\n",
       "    }\n",
       "</style>\n",
       "<table border=\"1\" class=\"dataframe\">\n",
       "  <thead>\n",
       "    <tr style=\"text-align: right;\">\n",
       "      <th></th>\n",
       "      <th>W</th>\n",
       "      <th>X</th>\n",
       "      <th>Y</th>\n",
       "      <th>Z</th>\n",
       "    </tr>\n",
       "  </thead>\n",
       "  <tbody>\n",
       "    <tr>\n",
       "      <th>A</th>\n",
       "      <td>NaN</td>\n",
       "      <td>NaN</td>\n",
       "      <td>NaN</td>\n",
       "      <td>NaN</td>\n",
       "    </tr>\n",
       "    <tr>\n",
       "      <th>B</th>\n",
       "      <td>NaN</td>\n",
       "      <td>NaN</td>\n",
       "      <td>1.307946</td>\n",
       "      <td>1.84546</td>\n",
       "    </tr>\n",
       "    <tr>\n",
       "      <th>C</th>\n",
       "      <td>0.829115</td>\n",
       "      <td>NaN</td>\n",
       "      <td>NaN</td>\n",
       "      <td>NaN</td>\n",
       "    </tr>\n",
       "    <tr>\n",
       "      <th>D</th>\n",
       "      <td>NaN</td>\n",
       "      <td>NaN</td>\n",
       "      <td>1.175839</td>\n",
       "      <td>NaN</td>\n",
       "    </tr>\n",
       "    <tr>\n",
       "      <th>E</th>\n",
       "      <td>1.228194</td>\n",
       "      <td>1.076386</td>\n",
       "      <td>0.394773</td>\n",
       "      <td>NaN</td>\n",
       "    </tr>\n",
       "  </tbody>\n",
       "</table>\n",
       "</div>"
      ],
      "text/plain": [
       "          W         X         Y        Z\n",
       "A       NaN       NaN       NaN      NaN\n",
       "B       NaN       NaN  1.307946  1.84546\n",
       "C  0.829115       NaN       NaN      NaN\n",
       "D       NaN       NaN  1.175839      NaN\n",
       "E  1.228194  1.076386  0.394773      NaN"
      ]
     },
     "execution_count": 33,
     "metadata": {},
     "output_type": "execute_result"
    }
   ],
   "source": [
    "df[booldf] #mostra-nos os valores da tabela > 0 "
   ]
  },
  {
   "cell_type": "code",
   "execution_count": 34,
   "id": "b9336f79",
   "metadata": {},
   "outputs": [
    {
     "data": {
      "text/html": [
       "<div>\n",
       "<style scoped>\n",
       "    .dataframe tbody tr th:only-of-type {\n",
       "        vertical-align: middle;\n",
       "    }\n",
       "\n",
       "    .dataframe tbody tr th {\n",
       "        vertical-align: top;\n",
       "    }\n",
       "\n",
       "    .dataframe thead th {\n",
       "        text-align: right;\n",
       "    }\n",
       "</style>\n",
       "<table border=\"1\" class=\"dataframe\">\n",
       "  <thead>\n",
       "    <tr style=\"text-align: right;\">\n",
       "      <th></th>\n",
       "      <th>W</th>\n",
       "      <th>X</th>\n",
       "      <th>Y</th>\n",
       "      <th>Z</th>\n",
       "    </tr>\n",
       "  </thead>\n",
       "  <tbody>\n",
       "    <tr>\n",
       "      <th>A</th>\n",
       "      <td>NaN</td>\n",
       "      <td>NaN</td>\n",
       "      <td>NaN</td>\n",
       "      <td>NaN</td>\n",
       "    </tr>\n",
       "    <tr>\n",
       "      <th>B</th>\n",
       "      <td>NaN</td>\n",
       "      <td>NaN</td>\n",
       "      <td>1.307946</td>\n",
       "      <td>1.84546</td>\n",
       "    </tr>\n",
       "    <tr>\n",
       "      <th>C</th>\n",
       "      <td>0.829115</td>\n",
       "      <td>NaN</td>\n",
       "      <td>NaN</td>\n",
       "      <td>NaN</td>\n",
       "    </tr>\n",
       "    <tr>\n",
       "      <th>D</th>\n",
       "      <td>NaN</td>\n",
       "      <td>NaN</td>\n",
       "      <td>1.175839</td>\n",
       "      <td>NaN</td>\n",
       "    </tr>\n",
       "    <tr>\n",
       "      <th>E</th>\n",
       "      <td>1.228194</td>\n",
       "      <td>1.076386</td>\n",
       "      <td>0.394773</td>\n",
       "      <td>NaN</td>\n",
       "    </tr>\n",
       "  </tbody>\n",
       "</table>\n",
       "</div>"
      ],
      "text/plain": [
       "          W         X         Y        Z\n",
       "A       NaN       NaN       NaN      NaN\n",
       "B       NaN       NaN  1.307946  1.84546\n",
       "C  0.829115       NaN       NaN      NaN\n",
       "D       NaN       NaN  1.175839      NaN\n",
       "E  1.228194  1.076386  0.394773      NaN"
      ]
     },
     "execution_count": 34,
     "metadata": {},
     "output_type": "execute_result"
    }
   ],
   "source": [
    "df[df>0] #mm coisa"
   ]
  },
  {
   "cell_type": "code",
   "execution_count": 36,
   "id": "570b3646",
   "metadata": {},
   "outputs": [
    {
     "data": {
      "text/plain": [
       "A    False\n",
       "B    False\n",
       "C     True\n",
       "D    False\n",
       "E     True\n",
       "Name: W, dtype: bool"
      ]
     },
     "execution_count": 36,
     "metadata": {},
     "output_type": "execute_result"
    }
   ],
   "source": [
    "df['W']>0"
   ]
  },
  {
   "cell_type": "code",
   "execution_count": 37,
   "id": "a5b59731",
   "metadata": {},
   "outputs": [
    {
     "data": {
      "text/plain": [
       "A   -1.086446\n",
       "B   -1.206586\n",
       "C    0.829115\n",
       "D   -1.074743\n",
       "E    1.228194\n",
       "Name: W, dtype: float64"
      ]
     },
     "execution_count": 37,
     "metadata": {},
     "output_type": "execute_result"
    }
   ],
   "source": [
    "df['W']"
   ]
  },
  {
   "cell_type": "code",
   "execution_count": 38,
   "id": "c0892f58",
   "metadata": {},
   "outputs": [
    {
     "data": {
      "text/html": [
       "<div>\n",
       "<style scoped>\n",
       "    .dataframe tbody tr th:only-of-type {\n",
       "        vertical-align: middle;\n",
       "    }\n",
       "\n",
       "    .dataframe tbody tr th {\n",
       "        vertical-align: top;\n",
       "    }\n",
       "\n",
       "    .dataframe thead th {\n",
       "        text-align: right;\n",
       "    }\n",
       "</style>\n",
       "<table border=\"1\" class=\"dataframe\">\n",
       "  <thead>\n",
       "    <tr style=\"text-align: right;\">\n",
       "      <th></th>\n",
       "      <th>W</th>\n",
       "      <th>X</th>\n",
       "      <th>Y</th>\n",
       "      <th>Z</th>\n",
       "    </tr>\n",
       "  </thead>\n",
       "  <tbody>\n",
       "    <tr>\n",
       "      <th>C</th>\n",
       "      <td>0.829115</td>\n",
       "      <td>-0.023299</td>\n",
       "      <td>-0.208564</td>\n",
       "      <td>-0.916620</td>\n",
       "    </tr>\n",
       "    <tr>\n",
       "      <th>E</th>\n",
       "      <td>1.228194</td>\n",
       "      <td>1.076386</td>\n",
       "      <td>0.394773</td>\n",
       "      <td>-0.387701</td>\n",
       "    </tr>\n",
       "  </tbody>\n",
       "</table>\n",
       "</div>"
      ],
      "text/plain": [
       "          W         X         Y         Z\n",
       "C  0.829115 -0.023299 -0.208564 -0.916620\n",
       "E  1.228194  1.076386  0.394773 -0.387701"
      ]
     },
     "execution_count": 38,
     "metadata": {},
     "output_type": "execute_result"
    }
   ],
   "source": [
    "df[df['W']>0] #mostra todas as linhas, da coluna W, >0"
   ]
  },
  {
   "cell_type": "code",
   "execution_count": 39,
   "id": "0168b9a3",
   "metadata": {},
   "outputs": [],
   "source": [
    "resultDf = df[df['W']>0]"
   ]
  },
  {
   "cell_type": "code",
   "execution_count": 40,
   "id": "4b5ef56e",
   "metadata": {},
   "outputs": [
    {
     "data": {
      "text/html": [
       "<div>\n",
       "<style scoped>\n",
       "    .dataframe tbody tr th:only-of-type {\n",
       "        vertical-align: middle;\n",
       "    }\n",
       "\n",
       "    .dataframe tbody tr th {\n",
       "        vertical-align: top;\n",
       "    }\n",
       "\n",
       "    .dataframe thead th {\n",
       "        text-align: right;\n",
       "    }\n",
       "</style>\n",
       "<table border=\"1\" class=\"dataframe\">\n",
       "  <thead>\n",
       "    <tr style=\"text-align: right;\">\n",
       "      <th></th>\n",
       "      <th>W</th>\n",
       "      <th>X</th>\n",
       "      <th>Y</th>\n",
       "      <th>Z</th>\n",
       "    </tr>\n",
       "  </thead>\n",
       "  <tbody>\n",
       "    <tr>\n",
       "      <th>C</th>\n",
       "      <td>0.829115</td>\n",
       "      <td>-0.023299</td>\n",
       "      <td>-0.208564</td>\n",
       "      <td>-0.916620</td>\n",
       "    </tr>\n",
       "    <tr>\n",
       "      <th>E</th>\n",
       "      <td>1.228194</td>\n",
       "      <td>1.076386</td>\n",
       "      <td>0.394773</td>\n",
       "      <td>-0.387701</td>\n",
       "    </tr>\n",
       "  </tbody>\n",
       "</table>\n",
       "</div>"
      ],
      "text/plain": [
       "          W         X         Y         Z\n",
       "C  0.829115 -0.023299 -0.208564 -0.916620\n",
       "E  1.228194  1.076386  0.394773 -0.387701"
      ]
     },
     "execution_count": 40,
     "metadata": {},
     "output_type": "execute_result"
    }
   ],
   "source": [
    "resultDf"
   ]
  },
  {
   "cell_type": "code",
   "execution_count": 49,
   "id": "d5a7e9d3",
   "metadata": {},
   "outputs": [
    {
     "data": {
      "text/html": [
       "<div>\n",
       "<style scoped>\n",
       "    .dataframe tbody tr th:only-of-type {\n",
       "        vertical-align: middle;\n",
       "    }\n",
       "\n",
       "    .dataframe tbody tr th {\n",
       "        vertical-align: top;\n",
       "    }\n",
       "\n",
       "    .dataframe thead th {\n",
       "        text-align: right;\n",
       "    }\n",
       "</style>\n",
       "<table border=\"1\" class=\"dataframe\">\n",
       "  <thead>\n",
       "    <tr style=\"text-align: right;\">\n",
       "      <th></th>\n",
       "      <th>X</th>\n",
       "      <th>Y</th>\n",
       "    </tr>\n",
       "  </thead>\n",
       "  <tbody>\n",
       "    <tr>\n",
       "      <th>C</th>\n",
       "      <td>-0.023299</td>\n",
       "      <td>-0.208564</td>\n",
       "    </tr>\n",
       "    <tr>\n",
       "      <th>E</th>\n",
       "      <td>1.076386</td>\n",
       "      <td>0.394773</td>\n",
       "    </tr>\n",
       "  </tbody>\n",
       "</table>\n",
       "</div>"
      ],
      "text/plain": [
       "          X         Y\n",
       "C -0.023299 -0.208564\n",
       "E  1.076386  0.394773"
      ]
     },
     "execution_count": 49,
     "metadata": {},
     "output_type": "execute_result"
    }
   ],
   "source": [
    "df[df['W']>0][['X','Y']] #assim mostramos so a coluna (nao funciona com linhas)"
   ]
  },
  {
   "cell_type": "code",
   "execution_count": 50,
   "id": "13aa9f2f",
   "metadata": {},
   "outputs": [],
   "source": [
    "boolser = df['W']>0\n",
    "result = df[boolser] "
   ]
  },
  {
   "cell_type": "code",
   "execution_count": 51,
   "id": "89b982d9",
   "metadata": {},
   "outputs": [
    {
     "data": {
      "text/html": [
       "<div>\n",
       "<style scoped>\n",
       "    .dataframe tbody tr th:only-of-type {\n",
       "        vertical-align: middle;\n",
       "    }\n",
       "\n",
       "    .dataframe tbody tr th {\n",
       "        vertical-align: top;\n",
       "    }\n",
       "\n",
       "    .dataframe thead th {\n",
       "        text-align: right;\n",
       "    }\n",
       "</style>\n",
       "<table border=\"1\" class=\"dataframe\">\n",
       "  <thead>\n",
       "    <tr style=\"text-align: right;\">\n",
       "      <th></th>\n",
       "      <th>W</th>\n",
       "      <th>X</th>\n",
       "      <th>Y</th>\n",
       "      <th>Z</th>\n",
       "    </tr>\n",
       "  </thead>\n",
       "  <tbody>\n",
       "    <tr>\n",
       "      <th>C</th>\n",
       "      <td>0.829115</td>\n",
       "      <td>-0.023299</td>\n",
       "      <td>-0.208564</td>\n",
       "      <td>-0.916620</td>\n",
       "    </tr>\n",
       "    <tr>\n",
       "      <th>E</th>\n",
       "      <td>1.228194</td>\n",
       "      <td>1.076386</td>\n",
       "      <td>0.394773</td>\n",
       "      <td>-0.387701</td>\n",
       "    </tr>\n",
       "  </tbody>\n",
       "</table>\n",
       "</div>"
      ],
      "text/plain": [
       "          W         X         Y         Z\n",
       "C  0.829115 -0.023299 -0.208564 -0.916620\n",
       "E  1.228194  1.076386  0.394773 -0.387701"
      ]
     },
     "execution_count": 51,
     "metadata": {},
     "output_type": "execute_result"
    }
   ],
   "source": [
    "result"
   ]
  },
  {
   "cell_type": "code",
   "execution_count": 52,
   "id": "6faa8819",
   "metadata": {},
   "outputs": [],
   "source": [
    "mycols = ['X','Y']"
   ]
  },
  {
   "cell_type": "code",
   "execution_count": 53,
   "id": "82976e54",
   "metadata": {},
   "outputs": [
    {
     "data": {
      "text/html": [
       "<div>\n",
       "<style scoped>\n",
       "    .dataframe tbody tr th:only-of-type {\n",
       "        vertical-align: middle;\n",
       "    }\n",
       "\n",
       "    .dataframe tbody tr th {\n",
       "        vertical-align: top;\n",
       "    }\n",
       "\n",
       "    .dataframe thead th {\n",
       "        text-align: right;\n",
       "    }\n",
       "</style>\n",
       "<table border=\"1\" class=\"dataframe\">\n",
       "  <thead>\n",
       "    <tr style=\"text-align: right;\">\n",
       "      <th></th>\n",
       "      <th>X</th>\n",
       "      <th>Y</th>\n",
       "    </tr>\n",
       "  </thead>\n",
       "  <tbody>\n",
       "    <tr>\n",
       "      <th>C</th>\n",
       "      <td>-0.023299</td>\n",
       "      <td>-0.208564</td>\n",
       "    </tr>\n",
       "    <tr>\n",
       "      <th>E</th>\n",
       "      <td>1.076386</td>\n",
       "      <td>0.394773</td>\n",
       "    </tr>\n",
       "  </tbody>\n",
       "</table>\n",
       "</div>"
      ],
      "text/plain": [
       "          X         Y\n",
       "C -0.023299 -0.208564\n",
       "E  1.076386  0.394773"
      ]
     },
     "execution_count": 53,
     "metadata": {},
     "output_type": "execute_result"
    }
   ],
   "source": [
    "result[mycols]"
   ]
  },
  {
   "cell_type": "code",
   "execution_count": 54,
   "id": "3aff5c29",
   "metadata": {},
   "outputs": [],
   "source": [
    "#df[df['W']>0][['X','Y']] = ao processo das linhas 50 -> 53"
   ]
  },
  {
   "cell_type": "code",
   "execution_count": 56,
   "id": "d78f7f74",
   "metadata": {},
   "outputs": [],
   "source": [
    "#df[(df['W']>0) and (df['W']>0)] #da erro porque, and neste caso é ambiguo\n",
    "#cada 'df[(df['W']>0)' é uma lista com varios true e false, ou seja,\n",
    "#nao temos um unico true ou false, daí nao podermos comparar estas 2 condicoes"
   ]
  },
  {
   "cell_type": "code",
   "execution_count": 57,
   "id": "96235e37",
   "metadata": {},
   "outputs": [
    {
     "data": {
      "text/html": [
       "<div>\n",
       "<style scoped>\n",
       "    .dataframe tbody tr th:only-of-type {\n",
       "        vertical-align: middle;\n",
       "    }\n",
       "\n",
       "    .dataframe tbody tr th {\n",
       "        vertical-align: top;\n",
       "    }\n",
       "\n",
       "    .dataframe thead th {\n",
       "        text-align: right;\n",
       "    }\n",
       "</style>\n",
       "<table border=\"1\" class=\"dataframe\">\n",
       "  <thead>\n",
       "    <tr style=\"text-align: right;\">\n",
       "      <th></th>\n",
       "      <th>W</th>\n",
       "      <th>X</th>\n",
       "      <th>Y</th>\n",
       "      <th>Z</th>\n",
       "    </tr>\n",
       "  </thead>\n",
       "  <tbody>\n",
       "    <tr>\n",
       "      <th>C</th>\n",
       "      <td>0.829115</td>\n",
       "      <td>-0.023299</td>\n",
       "      <td>-0.208564</td>\n",
       "      <td>-0.916620</td>\n",
       "    </tr>\n",
       "    <tr>\n",
       "      <th>E</th>\n",
       "      <td>1.228194</td>\n",
       "      <td>1.076386</td>\n",
       "      <td>0.394773</td>\n",
       "      <td>-0.387701</td>\n",
       "    </tr>\n",
       "  </tbody>\n",
       "</table>\n",
       "</div>"
      ],
      "text/plain": [
       "          W         X         Y         Z\n",
       "C  0.829115 -0.023299 -0.208564 -0.916620\n",
       "E  1.228194  1.076386  0.394773 -0.387701"
      ]
     },
     "execution_count": 57,
     "metadata": {},
     "output_type": "execute_result"
    }
   ],
   "source": [
    "df[(df['W']>0) & (df['W']>0)] #por isso utilizamos o & ou | (se quisermos 'ou')"
   ]
  },
  {
   "cell_type": "code",
   "execution_count": null,
   "id": "a5e86a01",
   "metadata": {},
   "outputs": [],
   "source": []
  },
  {
   "cell_type": "code",
   "execution_count": null,
   "id": "858c5f76",
   "metadata": {},
   "outputs": [],
   "source": []
  },
  {
   "cell_type": "code",
   "execution_count": 60,
   "id": "d91218c8",
   "metadata": {},
   "outputs": [
    {
     "data": {
      "text/html": [
       "<div>\n",
       "<style scoped>\n",
       "    .dataframe tbody tr th:only-of-type {\n",
       "        vertical-align: middle;\n",
       "    }\n",
       "\n",
       "    .dataframe tbody tr th {\n",
       "        vertical-align: top;\n",
       "    }\n",
       "\n",
       "    .dataframe thead th {\n",
       "        text-align: right;\n",
       "    }\n",
       "</style>\n",
       "<table border=\"1\" class=\"dataframe\">\n",
       "  <thead>\n",
       "    <tr style=\"text-align: right;\">\n",
       "      <th></th>\n",
       "      <th>index</th>\n",
       "      <th>W</th>\n",
       "      <th>X</th>\n",
       "      <th>Y</th>\n",
       "      <th>Z</th>\n",
       "    </tr>\n",
       "  </thead>\n",
       "  <tbody>\n",
       "    <tr>\n",
       "      <th>0</th>\n",
       "      <td>A</td>\n",
       "      <td>-1.086446</td>\n",
       "      <td>-0.896065</td>\n",
       "      <td>-0.306299</td>\n",
       "      <td>-1.339934</td>\n",
       "    </tr>\n",
       "    <tr>\n",
       "      <th>1</th>\n",
       "      <td>B</td>\n",
       "      <td>-1.206586</td>\n",
       "      <td>-0.641727</td>\n",
       "      <td>1.307946</td>\n",
       "      <td>1.845460</td>\n",
       "    </tr>\n",
       "    <tr>\n",
       "      <th>2</th>\n",
       "      <td>C</td>\n",
       "      <td>0.829115</td>\n",
       "      <td>-0.023299</td>\n",
       "      <td>-0.208564</td>\n",
       "      <td>-0.916620</td>\n",
       "    </tr>\n",
       "    <tr>\n",
       "      <th>3</th>\n",
       "      <td>D</td>\n",
       "      <td>-1.074743</td>\n",
       "      <td>-0.086143</td>\n",
       "      <td>1.175839</td>\n",
       "      <td>-1.635092</td>\n",
       "    </tr>\n",
       "    <tr>\n",
       "      <th>4</th>\n",
       "      <td>E</td>\n",
       "      <td>1.228194</td>\n",
       "      <td>1.076386</td>\n",
       "      <td>0.394773</td>\n",
       "      <td>-0.387701</td>\n",
       "    </tr>\n",
       "  </tbody>\n",
       "</table>\n",
       "</div>"
      ],
      "text/plain": [
       "  index         W         X         Y         Z\n",
       "0     A -1.086446 -0.896065 -0.306299 -1.339934\n",
       "1     B -1.206586 -0.641727  1.307946  1.845460\n",
       "2     C  0.829115 -0.023299 -0.208564 -0.916620\n",
       "3     D -1.074743 -0.086143  1.175839 -1.635092\n",
       "4     E  1.228194  1.076386  0.394773 -0.387701"
      ]
     },
     "execution_count": 60,
     "metadata": {},
     "output_type": "execute_result"
    }
   ],
   "source": [
    "df.reset_index() #reset no index, caso hajam alteracoes. para ficar definitivo, usamos inplace"
   ]
  },
  {
   "cell_type": "code",
   "execution_count": 62,
   "id": "e9d19c7e",
   "metadata": {},
   "outputs": [],
   "source": [
    "newInd = 'CA NY WY OR CO'.split() #separa cada elemento da string"
   ]
  },
  {
   "cell_type": "code",
   "execution_count": 63,
   "id": "ea1ca22a",
   "metadata": {},
   "outputs": [
    {
     "data": {
      "text/plain": [
       "['CA', 'NY', 'WY', 'OR', 'CO']"
      ]
     },
     "execution_count": 63,
     "metadata": {},
     "output_type": "execute_result"
    }
   ],
   "source": [
    "newInd"
   ]
  },
  {
   "cell_type": "code",
   "execution_count": 64,
   "id": "ebe84460",
   "metadata": {},
   "outputs": [],
   "source": [
    "df['States'] = newInd #cria uma tabela, com a lista"
   ]
  },
  {
   "cell_type": "code",
   "execution_count": 65,
   "id": "00fc958f",
   "metadata": {},
   "outputs": [
    {
     "data": {
      "text/html": [
       "<div>\n",
       "<style scoped>\n",
       "    .dataframe tbody tr th:only-of-type {\n",
       "        vertical-align: middle;\n",
       "    }\n",
       "\n",
       "    .dataframe tbody tr th {\n",
       "        vertical-align: top;\n",
       "    }\n",
       "\n",
       "    .dataframe thead th {\n",
       "        text-align: right;\n",
       "    }\n",
       "</style>\n",
       "<table border=\"1\" class=\"dataframe\">\n",
       "  <thead>\n",
       "    <tr style=\"text-align: right;\">\n",
       "      <th></th>\n",
       "      <th>W</th>\n",
       "      <th>X</th>\n",
       "      <th>Y</th>\n",
       "      <th>Z</th>\n",
       "      <th>States</th>\n",
       "    </tr>\n",
       "  </thead>\n",
       "  <tbody>\n",
       "    <tr>\n",
       "      <th>A</th>\n",
       "      <td>-1.086446</td>\n",
       "      <td>-0.896065</td>\n",
       "      <td>-0.306299</td>\n",
       "      <td>-1.339934</td>\n",
       "      <td>CA</td>\n",
       "    </tr>\n",
       "    <tr>\n",
       "      <th>B</th>\n",
       "      <td>-1.206586</td>\n",
       "      <td>-0.641727</td>\n",
       "      <td>1.307946</td>\n",
       "      <td>1.845460</td>\n",
       "      <td>NY</td>\n",
       "    </tr>\n",
       "    <tr>\n",
       "      <th>C</th>\n",
       "      <td>0.829115</td>\n",
       "      <td>-0.023299</td>\n",
       "      <td>-0.208564</td>\n",
       "      <td>-0.916620</td>\n",
       "      <td>WY</td>\n",
       "    </tr>\n",
       "    <tr>\n",
       "      <th>D</th>\n",
       "      <td>-1.074743</td>\n",
       "      <td>-0.086143</td>\n",
       "      <td>1.175839</td>\n",
       "      <td>-1.635092</td>\n",
       "      <td>OR</td>\n",
       "    </tr>\n",
       "    <tr>\n",
       "      <th>E</th>\n",
       "      <td>1.228194</td>\n",
       "      <td>1.076386</td>\n",
       "      <td>0.394773</td>\n",
       "      <td>-0.387701</td>\n",
       "      <td>CO</td>\n",
       "    </tr>\n",
       "  </tbody>\n",
       "</table>\n",
       "</div>"
      ],
      "text/plain": [
       "          W         X         Y         Z States\n",
       "A -1.086446 -0.896065 -0.306299 -1.339934     CA\n",
       "B -1.206586 -0.641727  1.307946  1.845460     NY\n",
       "C  0.829115 -0.023299 -0.208564 -0.916620     WY\n",
       "D -1.074743 -0.086143  1.175839 -1.635092     OR\n",
       "E  1.228194  1.076386  0.394773 -0.387701     CO"
      ]
     },
     "execution_count": 65,
     "metadata": {},
     "output_type": "execute_result"
    }
   ],
   "source": [
    "df"
   ]
  },
  {
   "cell_type": "code",
   "execution_count": 67,
   "id": "a70d516c",
   "metadata": {},
   "outputs": [
    {
     "data": {
      "text/html": [
       "<div>\n",
       "<style scoped>\n",
       "    .dataframe tbody tr th:only-of-type {\n",
       "        vertical-align: middle;\n",
       "    }\n",
       "\n",
       "    .dataframe tbody tr th {\n",
       "        vertical-align: top;\n",
       "    }\n",
       "\n",
       "    .dataframe thead th {\n",
       "        text-align: right;\n",
       "    }\n",
       "</style>\n",
       "<table border=\"1\" class=\"dataframe\">\n",
       "  <thead>\n",
       "    <tr style=\"text-align: right;\">\n",
       "      <th></th>\n",
       "      <th>W</th>\n",
       "      <th>X</th>\n",
       "      <th>Y</th>\n",
       "      <th>Z</th>\n",
       "    </tr>\n",
       "    <tr>\n",
       "      <th>States</th>\n",
       "      <th></th>\n",
       "      <th></th>\n",
       "      <th></th>\n",
       "      <th></th>\n",
       "    </tr>\n",
       "  </thead>\n",
       "  <tbody>\n",
       "    <tr>\n",
       "      <th>CA</th>\n",
       "      <td>-1.086446</td>\n",
       "      <td>-0.896065</td>\n",
       "      <td>-0.306299</td>\n",
       "      <td>-1.339934</td>\n",
       "    </tr>\n",
       "    <tr>\n",
       "      <th>NY</th>\n",
       "      <td>-1.206586</td>\n",
       "      <td>-0.641727</td>\n",
       "      <td>1.307946</td>\n",
       "      <td>1.845460</td>\n",
       "    </tr>\n",
       "    <tr>\n",
       "      <th>WY</th>\n",
       "      <td>0.829115</td>\n",
       "      <td>-0.023299</td>\n",
       "      <td>-0.208564</td>\n",
       "      <td>-0.916620</td>\n",
       "    </tr>\n",
       "    <tr>\n",
       "      <th>OR</th>\n",
       "      <td>-1.074743</td>\n",
       "      <td>-0.086143</td>\n",
       "      <td>1.175839</td>\n",
       "      <td>-1.635092</td>\n",
       "    </tr>\n",
       "    <tr>\n",
       "      <th>CO</th>\n",
       "      <td>1.228194</td>\n",
       "      <td>1.076386</td>\n",
       "      <td>0.394773</td>\n",
       "      <td>-0.387701</td>\n",
       "    </tr>\n",
       "  </tbody>\n",
       "</table>\n",
       "</div>"
      ],
      "text/plain": [
       "               W         X         Y         Z\n",
       "States                                        \n",
       "CA     -1.086446 -0.896065 -0.306299 -1.339934\n",
       "NY     -1.206586 -0.641727  1.307946  1.845460\n",
       "WY      0.829115 -0.023299 -0.208564 -0.916620\n",
       "OR     -1.074743 -0.086143  1.175839 -1.635092\n",
       "CO      1.228194  1.076386  0.394773 -0.387701"
      ]
     },
     "execution_count": 67,
     "metadata": {},
     "output_type": "execute_result"
    }
   ],
   "source": [
    "df.set_index('States') #o index passa a ser os States (novamente, temos de usar inplace)"
   ]
  },
  {
   "cell_type": "code",
   "execution_count": null,
   "id": "510b29fd",
   "metadata": {},
   "outputs": [],
   "source": []
  }
 ],
 "metadata": {
  "kernelspec": {
   "display_name": "Python 3 (ipykernel)",
   "language": "python",
   "name": "python3"
  },
  "language_info": {
   "codemirror_mode": {
    "name": "ipython",
    "version": 3
   },
   "file_extension": ".py",
   "mimetype": "text/x-python",
   "name": "python",
   "nbconvert_exporter": "python",
   "pygments_lexer": "ipython3",
   "version": "3.9.13"
  }
 },
 "nbformat": 4,
 "nbformat_minor": 5
}
